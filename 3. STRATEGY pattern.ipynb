{
 "cells": [
  {
   "cell_type": "markdown",
   "id": "df377d8f",
   "metadata": {},
   "source": [
    "### STRATEGY pattern\n",
    "- As the name suggests, if you want to do different things depending on different conditions, `strategy pattern` is an awesome tool to do so.\n",
    "- For example, you want to show use different machine learning models depending on the situation/inputs, you can use strategy pattern. It'll help you write code that can be modified or extended easily.\n",
    "\n",
    "Let's say we want to implement a Customer Support feature for our app. We can design it in a way like:"
   ]
  },
  {
   "cell_type": "code",
   "execution_count": 1,
   "id": "091357cc",
   "metadata": {},
   "outputs": [],
   "source": [
    "## Lets understand the code without STRATEGY pattern first\n",
    "import string\n",
    "import random\n",
    "from typing import List"
   ]
  },
  {
   "cell_type": "code",
   "execution_count": 2,
   "id": "f4230fc8",
   "metadata": {},
   "outputs": [],
   "source": [
    "def generate_id(length=8):\n",
    "    \"\"\"\n",
    "        Function that will generate an ID\n",
    "        `length`: Length of ID to need\n",
    "    \"\"\"\n",
    "    return ''.join(random.choices(string.ascii_uppercase,k=length))"
   ]
  },
  {
   "cell_type": "code",
   "execution_count": 3,
   "id": "4f9b40da",
   "metadata": {},
   "outputs": [],
   "source": [
    "class SupportTicket:\n",
    "    id : str\n",
    "    customer : str\n",
    "    issue : str\n",
    "        \n",
    "    def __init__(self,customer,issue):\n",
    "        self.id = generate_id()\n",
    "        self.customer = customer\n",
    "        self.issue = issue"
   ]
  },
  {
   "cell_type": "code",
   "execution_count": 4,
   "id": "33d35710",
   "metadata": {},
   "outputs": [],
   "source": [
    "class CustomerSupport:\n",
    "    tickets: List[SupportTicket] = []\n",
    "    \n",
    "    def create_ticket(self,customer,issue):\n",
    "        self.tickets.append(SupportTicket(customer,issue))\n",
    "        \n",
    "    def process_tickets(self,processing_strategy=\"fifo\"):\n",
    "        # If no tickets\n",
    "        if len(self.tickets) == 0:\n",
    "            print(\"There are no tickets to process.\")\n",
    "            return\n",
    "        \n",
    "        # First In First Out Strategy \n",
    "        if processing_strategy == \"fifo\":\n",
    "            for ticket in self.tickets:\n",
    "                self.process_ticket(ticket)\n",
    "        # Last in First Out Strategy\n",
    "        elif processing_strategy == \"lifo\":\n",
    "            for ticket in reversed(self.tickets):\n",
    "                self.process_ticket(ticket)\n",
    "        # Random Strategy\n",
    "        elif processing_strategy == \"random\":\n",
    "            list_copy = self.tickets.copy()\n",
    "            random.shuffle(list_copy)\n",
    "            for ticket in list_copy:\n",
    "                self.process_ticket(ticket)\n",
    "        # And maybe we add more strategies in future\n",
    "        \n",
    "    def process_ticket(self, ticket: SupportTicket):\n",
    "        print(\"==================================\")\n",
    "        print(f\"Processing Ticket ID: {ticket.id}\")\n",
    "        print(f\"Customer: {ticket.customer}\")\n",
    "        print(f\"Issue: {ticket.customer}\")\n",
    "        print(\"==================================\")"
   ]
  },
  {
   "cell_type": "code",
   "execution_count": 5,
   "id": "0ceaa160",
   "metadata": {},
   "outputs": [],
   "source": [
    "# Create App\n",
    "app = CustomerSupport()\n",
    "\n",
    "# Register few tickets\n",
    "app.create_ticket(\"Usman Arif\",\"Iam Unable to add new gig\")\n",
    "app.create_ticket(\"Mujeeb\",\"Customer has cancelled the order\")\n",
    "app.create_ticket(\"Fawad\",\"Order time is not increasing. Please solve it ASAP\")"
   ]
  },
  {
   "cell_type": "code",
   "execution_count": 6,
   "id": "d726fb5f",
   "metadata": {},
   "outputs": [
    {
     "name": "stdout",
     "output_type": "stream",
     "text": [
      "==================================\n",
      "Processing Ticket ID: UHOZNCGR\n",
      "Customer: Usman Arif\n",
      "Issue: Usman Arif\n",
      "==================================\n",
      "==================================\n",
      "Processing Ticket ID: IMGRGCHI\n",
      "Customer: Mujeeb\n",
      "Issue: Mujeeb\n",
      "==================================\n",
      "==================================\n",
      "Processing Ticket ID: JEIRCSZT\n",
      "Customer: Fawad\n",
      "Issue: Fawad\n",
      "==================================\n"
     ]
    }
   ],
   "source": [
    "# Process tickets using First In First Out\n",
    "app.process_tickets('fifo')"
   ]
  },
  {
   "cell_type": "code",
   "execution_count": 7,
   "id": "4864125c",
   "metadata": {},
   "outputs": [
    {
     "name": "stdout",
     "output_type": "stream",
     "text": [
      "==================================\n",
      "Processing Ticket ID: JEIRCSZT\n",
      "Customer: Fawad\n",
      "Issue: Fawad\n",
      "==================================\n",
      "==================================\n",
      "Processing Ticket ID: IMGRGCHI\n",
      "Customer: Mujeeb\n",
      "Issue: Mujeeb\n",
      "==================================\n",
      "==================================\n",
      "Processing Ticket ID: UHOZNCGR\n",
      "Customer: Usman Arif\n",
      "Issue: Usman Arif\n",
      "==================================\n"
     ]
    }
   ],
   "source": [
    "# Process tickets using Last In First Out\n",
    "app.process_tickets('lifo')"
   ]
  },
  {
   "cell_type": "code",
   "execution_count": 8,
   "id": "eccf74e7",
   "metadata": {},
   "outputs": [
    {
     "name": "stdout",
     "output_type": "stream",
     "text": [
      "==================================\n",
      "Processing Ticket ID: UHOZNCGR\n",
      "Customer: Usman Arif\n",
      "Issue: Usman Arif\n",
      "==================================\n",
      "==================================\n",
      "Processing Ticket ID: IMGRGCHI\n",
      "Customer: Mujeeb\n",
      "Issue: Mujeeb\n",
      "==================================\n",
      "==================================\n",
      "Processing Ticket ID: JEIRCSZT\n",
      "Customer: Fawad\n",
      "Issue: Fawad\n",
      "==================================\n"
     ]
    }
   ],
   "source": [
    "# Process tickets using Random Strategy\n",
    "app.process_tickets('random')"
   ]
  },
  {
   "cell_type": "markdown",
   "id": "fa1aab3b",
   "metadata": {},
   "source": [
    "#### BEWARE\n",
    "\n",
    "- So, its a great code to acheive what we wanted.\n",
    "- But `process_tickets()` has a weak cohesion (doing a lot of unrelated things)\n",
    "- Similarly, what if you wanted to add four or 10 more processing strategies as well as you want to use these strategies somewhere else in the code.\n",
    "- It will become a problem then, because you have to add few more `if else` statements in `process_tickets()`\n",
    "- There is a better way to handle this dependency and to modify or extend our strategies in future.\n",
    "\n",
    "Let's understand by doing"
   ]
  },
  {
   "cell_type": "code",
   "execution_count": 9,
   "id": "5ac7e37d",
   "metadata": {},
   "outputs": [],
   "source": [
    "## Lets understand the code without STRATEGY pattern first\n",
    "import string\n",
    "import random\n",
    "from typing import List\n",
    "from abc import ABC,abstractmethod"
   ]
  },
  {
   "cell_type": "code",
   "execution_count": 10,
   "id": "6b28eb09",
   "metadata": {},
   "outputs": [],
   "source": [
    "# Interface that our strategies should implement\n",
    "class TicketOrderingStrategy(ABC):\n",
    "    # Create Ordering function \n",
    "    # It will take a list of Support Tickets\n",
    "    # And it will return list of Support Tickets\n",
    "    @abstractmethod\n",
    "    def create_ordering(self, list: List[SupportTicket]) -> List[SupportTicket]:\n",
    "        pass\n",
    "    \n",
    "    \n",
    "# Lets implement some strategies\n",
    "\n",
    "# FIFO \n",
    "class FIFOOrderingStrategy(TicketOrderingStrategy):\n",
    "    def create_ordering(self, list: List[SupportTicket]) -> List[SupportTicket]:\n",
    "        # Return reversed\n",
    "        return list.copy()\n",
    "\n",
    "# Last in First Out Strategy\n",
    "class LIFOOrderingStrategy(TicketOrderingStrategy):\n",
    "    def create_ordering(self, list: List[SupportTicket]) -> List[SupportTicket]:\n",
    "        list_copy = list.copy()\n",
    "        # Return reversed\n",
    "        return reversed(list_copy)\n",
    "    \n",
    "# We can add as much as we want"
   ]
  },
  {
   "cell_type": "code",
   "execution_count": 11,
   "id": "e11f1f7b",
   "metadata": {},
   "outputs": [],
   "source": [
    "def generate_id(length=8):\n",
    "    \"\"\"\n",
    "        Function that will generate an ID\n",
    "        `length`: Length of ID to need\n",
    "    \"\"\"\n",
    "    return ''.join(random.choices(string.ascii_uppercase,k=length))"
   ]
  },
  {
   "cell_type": "code",
   "execution_count": 12,
   "id": "1803df31",
   "metadata": {},
   "outputs": [],
   "source": [
    "class SupportTicket:\n",
    "    id : str\n",
    "    customer : str\n",
    "    issue : str\n",
    "        \n",
    "    def __init__(self,customer,issue):\n",
    "        self.id = generate_id()\n",
    "        self.customer = customer\n",
    "        self.issue = issue"
   ]
  },
  {
   "cell_type": "code",
   "execution_count": 13,
   "id": "a203d593",
   "metadata": {},
   "outputs": [],
   "source": [
    "class CustomerSupport:\n",
    "    tickets: List[SupportTicket] = []\n",
    "    \n",
    "    def create_ticket(self,customer,issue):\n",
    "        self.tickets.append(SupportTicket(customer,issue))\n",
    "        \n",
    "    def process_tickets(self,processing_strategy: TicketOrderingStrategy):\n",
    "        # If no tickets\n",
    "        if len(self.tickets) == 0:\n",
    "            print(\"There are no tickets to process.\")\n",
    "            return\n",
    "        \n",
    "        # First we have to create a list now\n",
    "        ticket_list = processing_strategy.create_ordering(self.tickets)\n",
    "        # Process tickets\n",
    "        for ticket in ticket_list:\n",
    "            self.process_ticket(ticket)\n",
    "    \n",
    "    def process_ticket(self, ticket: SupportTicket):\n",
    "        print(\"==================================\")\n",
    "        print(f\"Processing Ticket ID: {ticket.id}\")\n",
    "        print(f\"Customer: {ticket.customer}\")\n",
    "        print(f\"Issue: {ticket.customer}\")\n",
    "        print(\"==================================\")"
   ]
  },
  {
   "cell_type": "code",
   "execution_count": 14,
   "id": "11fda968",
   "metadata": {},
   "outputs": [],
   "source": [
    "# Create App\n",
    "app = CustomerSupport()\n",
    "\n",
    "# Register few tickets\n",
    "app.create_ticket(\"Usman Arif\",\"Iam Unable to add new gig\")\n",
    "app.create_ticket(\"Mujeeb\",\"Customer has cancelled the order\")\n",
    "app.create_ticket(\"Fawad\",\"Order time is not increasing. Please solve it ASAP\")"
   ]
  },
  {
   "cell_type": "code",
   "execution_count": 15,
   "id": "f91cbdf3",
   "metadata": {},
   "outputs": [
    {
     "name": "stdout",
     "output_type": "stream",
     "text": [
      "==================================\n",
      "Processing Ticket ID: IEFCZEBH\n",
      "Customer: Usman Arif\n",
      "Issue: Usman Arif\n",
      "==================================\n",
      "==================================\n",
      "Processing Ticket ID: ZVCHTNEY\n",
      "Customer: Mujeeb\n",
      "Issue: Mujeeb\n",
      "==================================\n",
      "==================================\n",
      "Processing Ticket ID: GFMMMTGU\n",
      "Customer: Fawad\n",
      "Issue: Fawad\n",
      "==================================\n"
     ]
    }
   ],
   "source": [
    "# FIFO\n",
    "app.process_tickets(FIFOOrderingStrategy())"
   ]
  },
  {
   "cell_type": "code",
   "execution_count": 16,
   "id": "58f12b49",
   "metadata": {},
   "outputs": [
    {
     "name": "stdout",
     "output_type": "stream",
     "text": [
      "==================================\n",
      "Processing Ticket ID: GFMMMTGU\n",
      "Customer: Fawad\n",
      "Issue: Fawad\n",
      "==================================\n",
      "==================================\n",
      "Processing Ticket ID: ZVCHTNEY\n",
      "Customer: Mujeeb\n",
      "Issue: Mujeeb\n",
      "==================================\n",
      "==================================\n",
      "Processing Ticket ID: IEFCZEBH\n",
      "Customer: Usman Arif\n",
      "Issue: Usman Arif\n",
      "==================================\n"
     ]
    }
   ],
   "source": [
    "# LIFO\n",
    "app.process_tickets(LIFOOrderingStrategy())"
   ]
  },
  {
   "cell_type": "markdown",
   "id": "d60b4939",
   "metadata": {},
   "source": [
    "- You can also use functions instead of `STRATEGY` classes if you like.\n",
    "- Now the `process_tickets()` has a strong cohesion and doesn't know much about `OrderingStrategy` except its name."
   ]
  }
 ],
 "metadata": {
  "kernelspec": {
   "display_name": "Python 3 (ipykernel)",
   "language": "python",
   "name": "python3"
  },
  "language_info": {
   "codemirror_mode": {
    "name": "ipython",
    "version": 3
   },
   "file_extension": ".py",
   "mimetype": "text/x-python",
   "name": "python",
   "nbconvert_exporter": "python",
   "pygments_lexer": "ipython3",
   "version": "3.8.3"
  }
 },
 "nbformat": 4,
 "nbformat_minor": 5
}
