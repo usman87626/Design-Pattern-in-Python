{
 "cells": [
  {
   "cell_type": "markdown",
   "id": "e8cff036",
   "metadata": {},
   "source": [
    "### Dependency Inversion\n",
    "- Dependency inversion is a key principle that helps us write better code that we can reuse for easily.\n",
    "- It's part of group of design principles called `SOLID` (`D` stands for Dependency Inversion, we will see `SOLI` later)\n",
    "- Dependency inversion talks about the coupling between the different classes or modules. \n",
    "- It focuses on the approach where the higher classes are not dependent on the lower classes instead depend upon the abstraction of the lower classes.\n",
    "- A key ingredient of `Dependency Inversion` & many of the other design patterns that we will see later is `abstraction`\n",
    "\n",
    "`Abstraction: Separate the definition/interface from actual implementation.`\n",
    "\n",
    "\n",
    "- Example of abstraction:\n",
    "    - If we are writing a sorting algorithm, our interface might be `algorithm expects list of some kind & a function that should tell us which element comes first as well as types of input and output [list]`\n",
    "    \n",
    "<hr>\n",
    "\n",
    "- Python has no built-in mechanism to provide abstraction as well it doesn't provide types in a classical sense.\n",
    "\n",
    "- We can use `ABC(Abstract Base Class)` to acheive abstraction & `Type Hints` to use Types.\n",
    "\n",
    "\n",
    "<hr>\n",
    "\n",
    "Let's understand `DI` with an example"
   ]
  },
  {
   "cell_type": "code",
   "execution_count": null,
   "id": "00ac4441",
   "metadata": {},
   "outputs": [],
   "source": [
    "## LightBulb Class\n",
    "class LightBulb:\n",
    "    # Function to turn on the bulb\n",
    "    def turn_on(self):\n",
    "        print(\"LightBulb turned on..\")\n",
    "        \n",
    "    # Function to turn off the bulb\n",
    "    def turn_off(self):\n",
    "        print(\"LightBulb turned off..\")\n",
    "        \n",
    "# Electric Power Switch Class\n",
    "class ElectricPowerSwitch:\n",
    "    def __init__(self , l:LightBulb):\n",
    "        self.lightBulb = l\n",
    "        self.on = False\n",
    "        \n",
    "    def press(self):\n",
    "        if self.on:\n",
    "            self.lightBulb.turn_off()\n",
    "            self.on = False\n",
    "        else:\n",
    "            self.lightBulb.turn_on()\n",
    "            self.on = True\n",
    "\n",
    "# Lets use ElectricPowerSwitch to turn on/off the bulb\n",
    "l = LightBulb()\n",
    "switch = ElectricPowerSwitch(l)\n",
    "switch.press()\n",
    "switch.press()"
   ]
  },
  {
   "cell_type": "markdown",
   "id": "14835805",
   "metadata": {},
   "source": [
    "`Maybe, the code written above seems fine to you but there are a lot of issues that will stop you from extending/improving the code in future`\n",
    "\n",
    "<hr>\n",
    "\n",
    "- In our code, `LightBulb` is dependent on `ElectricPowerSwitch` and vice versa i.e. it has much coupling.\n",
    "- If we add/remove/change something in `LightBulb` or `ElectricPowerSwitch` we have to make changes in both of the classes and maybe there are even more classes in your use-case.\n",
    "- We can remove this dependency between both the classes using `Dependency Inversion Principle`\n",
    "- To acheive `Dependency Inversion` we will be using `Abstraction` (ABC module)\n",
    "<hr>\n",
    "\n",
    "Let's see it by doing"
   ]
  },
  {
   "cell_type": "code",
   "execution_count": 1,
   "id": "b6729a4f",
   "metadata": {},
   "outputs": [
    {
     "ename": "TypeError",
     "evalue": "Can't instantiate abstract class Switchable with abstract methods turn_off, turn_on",
     "output_type": "error",
     "traceback": [
      "\u001b[1;31m---------------------------------------------------------------------------\u001b[0m",
      "\u001b[1;31mTypeError\u001b[0m                                 Traceback (most recent call last)",
      "Input \u001b[1;32mIn [1]\u001b[0m, in \u001b[0;36m<cell line: 21>\u001b[1;34m()\u001b[0m\n\u001b[0;32m     17\u001b[0m         \u001b[38;5;28;01mpass\u001b[39;00m\n\u001b[0;32m     19\u001b[0m \u001b[38;5;66;03m# We cannot create object of this class neither we can call its methods now\u001b[39;00m\n\u001b[0;32m     20\u001b[0m \u001b[38;5;66;03m# Let's try to create an object\u001b[39;00m\n\u001b[1;32m---> 21\u001b[0m obj \u001b[38;5;241m=\u001b[39m \u001b[43mSwitchable\u001b[49m\u001b[43m(\u001b[49m\u001b[43m)\u001b[49m\n",
      "\u001b[1;31mTypeError\u001b[0m: Can't instantiate abstract class Switchable with abstract methods turn_off, turn_on"
     ]
    }
   ],
   "source": [
    "# Let's create a class that will represent anything that can be switched on/off\n",
    "''' \n",
    "But we dont want to use this class to create objects and call switch on/off\n",
    "methods, we want to use it as an interface/abstraction for any switchable.\n",
    "We can acheive abstraction using abc module, if you dont know about Abstraction\n",
    "you should try reading some articles for better understanding\n",
    "'''\n",
    "\n",
    "from abc import ABC, abstractmethod\n",
    "\n",
    "class Switchable(ABC):\n",
    "    @abstractmethod\n",
    "    def turn_on(self):\n",
    "        pass\n",
    "    @abstractmethod\n",
    "    def turn_off(self):\n",
    "        pass\n",
    "\n",
    "# We cannot create object of this class neither we can call its methods now\n",
    "# Let's try to create an object\n",
    "obj = Switchable()"
   ]
  },
  {
   "cell_type": "code",
   "execution_count": 4,
   "id": "a351b418",
   "metadata": {},
   "outputs": [],
   "source": [
    "# Let's create our classes now that inherits from this interface\n",
    "## LightBulb Class\n",
    "class LightBulb(Switchable):\n",
    "    # Function to turn on the bulb\n",
    "    def turn_on(self):\n",
    "        print(\"LightBulb turned on..\")\n",
    "        \n",
    "    # Function to turn off the bulb\n",
    "    def turn_off(self):\n",
    "        print(\"LightBulb turned off..\")     "
   ]
  },
  {
   "cell_type": "code",
   "execution_count": 5,
   "id": "71327089",
   "metadata": {},
   "outputs": [],
   "source": [
    "# Electric Power Switch Class\n",
    "class ElectricPowerSwitch:\n",
    "    \n",
    "    # Let's remove dependency of LightBulb and add Switchable here\n",
    "    # We will see the benefits of doing it in the next few code cells\n",
    "    def __init__(self , c:Switchable):\n",
    "        self.client = c\n",
    "        self.on = False\n",
    "        \n",
    "    def press(self):\n",
    "        if self.on:\n",
    "            self.client.turn_off()\n",
    "            self.on = False\n",
    "        else:\n",
    "            self.client.turn_on()\n",
    "            self.on = True\n"
   ]
  },
  {
   "cell_type": "code",
   "execution_count": 6,
   "id": "59ccabd5",
   "metadata": {},
   "outputs": [
    {
     "name": "stdout",
     "output_type": "stream",
     "text": [
      "LightBulb turned on..\n",
      "LightBulb turned off..\n"
     ]
    }
   ],
   "source": [
    "# Bulb WORKS FINE\n",
    "l = LightBulb()\n",
    "switch = ElectricPowerSwitch(l)\n",
    "switch.press()\n",
    "switch.press()"
   ]
  },
  {
   "cell_type": "markdown",
   "id": "f56f9d8c",
   "metadata": {},
   "source": [
    "- Let's say, now you want to add another Switchable i.e Fan.\n",
    "- Let's see how much easy it is to do now"
   ]
  },
  {
   "cell_type": "code",
   "execution_count": 7,
   "id": "5ab0fc46",
   "metadata": {},
   "outputs": [
    {
     "name": "stdout",
     "output_type": "stream",
     "text": [
      "Fan turned on..\n",
      "Fan turned off..\n"
     ]
    }
   ],
   "source": [
    "class Fan(Switchable):\n",
    "    # Function to turn on the fan\n",
    "    def turn_on(self):\n",
    "        print(\"Fan turned on..\")\n",
    "        \n",
    "    # Function to turn off the fan\n",
    "    def turn_off(self):\n",
    "        print(\"Fan turned off..\")    \n",
    "        \n",
    "# FAN WORKS FINE AS WELL\n",
    "f = Fan()\n",
    "switch = ElectricPowerSwitch(f)\n",
    "switch.press()\n",
    "switch.press()"
   ]
  },
  {
   "cell_type": "markdown",
   "id": "fff892b7",
   "metadata": {},
   "source": [
    "- Now, our `ElectricPowerSwitch` is only dependent on an Interface `Switchable` and every new class can apply the `Switchable` interface to make it compatible with `ElectricPowerSwitch`\n",
    "\n",
    "- Hence, now it can be changed easily and its good as Software is constantly changing."
   ]
  }
 ],
 "metadata": {
  "kernelspec": {
   "display_name": "Python 3 (ipykernel)",
   "language": "python",
   "name": "python3"
  },
  "language_info": {
   "codemirror_mode": {
    "name": "ipython",
    "version": 3
   },
   "file_extension": ".py",
   "mimetype": "text/x-python",
   "name": "python",
   "nbconvert_exporter": "python",
   "pygments_lexer": "ipython3",
   "version": "3.8.3"
  }
 },
 "nbformat": 4,
 "nbformat_minor": 5
}
