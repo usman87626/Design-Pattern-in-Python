{
 "cells": [
  {
   "cell_type": "markdown",
   "id": "516d196e",
   "metadata": {},
   "source": [
    "### High quality code\n",
    "We will talk about two important software quality metrics in this notebook that will help us improve our code quality & allows us to extend or change our code easily in future. Those two metrics are:\n",
    "- Cohesion\n",
    "- Coupling"
   ]
  },
  {
   "cell_type": "markdown",
   "id": "9b1d5ba9",
   "metadata": {},
   "source": [
    "## Cohesion\n",
    "- Cohesion is degree to which elements of a certain class or function belong together.\n",
    "\n",
    "Let's see some code snippet to understand it better.\n",
    "\n",
    "- The following function `func1()` does a lot of different unrelated things which means that it has a weak cohesion.\n",
    "<pre>\n",
    "def func1(some_args):\n",
    "    # Downloads a html file\n",
    "    # Downloads an image\n",
    "    # Sends both files to an email\n",
    "    # Calculates hash of html file\n",
    "    # Returns success_msg and hash of file\n",
    "</pre>\n",
    "\n",
    "- Similarly, the following function `func2()` has a single function i.e. to add numbers thus holds a strong cohesion.\n",
    "<pre>\n",
    "def func1(some_args):\n",
    "    # Add numbers\n",
    "    # Return the sum\n",
    "</pre>\n",
    "\n",
    "- To maintain, change or extend the code easily, a function should have `strong cohesion`"
   ]
  },
  {
   "cell_type": "markdown",
   "id": "05022f74",
   "metadata": {},
   "source": [
    "## Coupling\n",
    "- Coupling is measure of how dependent two parts of our code are to each other.\n",
    "\n",
    "Let's see some code snippet to understand it better.\n",
    "\n",
    "- Let's look at the following function: `checkEmailSec()` \n",
    "<pre>\n",
    "def checkEmailSec(email):\n",
    "    if email.header.bearer.invalid():\n",
    "        raise Exception(\"Email header bearer is invalid\")\n",
    "    elif email.header.received != email.header.received_spf:\n",
    "        raise Exception(\"Received mismatch\")\n",
    "    else:\n",
    "        print(\"Email header is secure\")_\n",
    "</pre>\n",
    "\n",
    "- This function checks an email if its legit or not by looking at various parts of email.\n",
    "- The code in function directly accesses the data that is deep in the structure of `email` object which means that its highly coupled with email object.\n",
    "- `Having high` is problematic because changing something in one part of our program requires a change in multiple places of program. Like in this example, if the structure of email changes we have to rewrite the `checkEmailSec()` function as well.\n",
    "- Although, there will always be some coupling in our code because there will always be some code that will be dependent to each other.\n",
    "- Know that, if you introduce more coupling to the code, it will become difficult to change the code.\n",
    "\n",
    "- We can solve the coupling issue in the above example by either just passing the data that the function needs (header) instead of entire email object or we can move this function inside Email object since its directly related to the data in object.\n",
    "\n",
    "\n",
    "`Coupling & Cohesion are the important metrics for software quality. Unfortunately, there is no formula that can help us calculate a number that tells us how much two functions/classes are coupled or cohesive. We have to train ourselves daily to master this skill.`\n",
    "\n",
    "We will see an examples to understand better."
   ]
  },
  {
   "cell_type": "code",
   "execution_count": 1,
   "id": "e02bfed1",
   "metadata": {},
   "outputs": [],
   "source": [
    "import string\n",
    "import random"
   ]
  },
  {
   "cell_type": "code",
   "execution_count": 2,
   "id": "0212dbe0",
   "metadata": {},
   "outputs": [],
   "source": [
    "class VehicleRegistry:\n",
    "    def generate_vehicle_id(self,length):\n",
    "        return ''.join(random.choices(string.ascii_uppercase, k=length))\n",
    "    \n",
    "    def generate_vehicle_license(self,id):\n",
    "        return f\"{id[:2]}-{''.join(random.choices(string.digits,k=2))}-{''.join(random.choices(string.ascii_uppercase,k=2))}\""
   ]
  },
  {
   "cell_type": "code",
   "execution_count": 3,
   "id": "13d14faf",
   "metadata": {},
   "outputs": [
    {
     "name": "stdout",
     "output_type": "stream",
     "text": [
      "Registration Completed. Vehicle Info:\n",
      "Brand: BMW 5\n",
      "ID: KAKTWNJOBKOI\n",
      "License Plate: KA-47-UI\n",
      "Payable Tax: 300.0\n"
     ]
    }
   ],
   "source": [
    "class Application:\n",
    "    def register_vehicle(self,brand):\n",
    "        # Create a registry instance\n",
    "        registry = VehicleRegistry()\n",
    "        \n",
    "        #generate a vehicle id of length 12\n",
    "        vehicle_id = registry.generate_vehicle_id(12)\n",
    "        \n",
    "        #generate  a license plate for vehicle\n",
    "        license_plate = registry.generate_vehicle_license(vehicle_id)\n",
    "        \n",
    "        # computer catalog price\n",
    "        catalog_price = 0\n",
    "        if brand == \"Tesla Model 3\":\n",
    "            catalog_price = 10000\n",
    "        elif brand == \"Volkswagen ID3\":\n",
    "            catalog_price = 20000\n",
    "        elif brand == \"BMW 5\":\n",
    "            catalog_price = 15000\n",
    "            \n",
    "        # Compute tax percentage\n",
    "        tax_percentage = 0.05\n",
    "        if brand == \"Tesla Model 3\" or \"Volkswagen ID3\":\n",
    "            tax_percentage = 0.02\n",
    "        \n",
    "        # Computer payable tax\n",
    "        payable_tax = catalog_price * tax_percentage\n",
    "        \n",
    "        # Print results\n",
    "        print(\"Registration Completed. Vehicle Info:\")\n",
    "        print(f\"Brand: {brand}\")\n",
    "        print(f\"ID: {vehicle_id}\")\n",
    "        print(f\"License Plate: {license_plate}\")\n",
    "        print(f\"Payable Tax: {payable_tax}\")\n",
    "\n",
    "# Create instance\n",
    "app = Application()\n",
    "app.register_vehicle(\"BMW 5\")\n",
    "        "
   ]
  },
  {
   "cell_type": "markdown",
   "id": "e7a8c9c4",
   "metadata": {},
   "source": [
    "Lets figure out the problems with our code & then apply the improvement to make it better. \n",
    "\n",
    "- `register_vehicle()` is doing a lot of different things i.e \n",
    "    - It generates ID & license plate\n",
    "    - It computes catalogue price & tax\n",
    "    - It prints out the results\n",
    "    - It has a very low cohesion. \n",
    "    - It also has a high coupling i.e. this function is directly relying on implementation details of `VehicleRegistry`\n",
    "    - High coupling means that if we change anything in `VehicleRegistry`, we have to change couple of things in `register_vehicle()` method as well.\n",
    "    - Also, it is hard to add more brands and catalogue prices as its forcing us to add more `if else` statements.\n",
    "    - Same is the case with `tax` generation code.\n",
    "    \n",
    "\n",
    "<b>TIP: </b> `TO IMPROVE COHESION & COUPLING,ALWAYS LOOK FOR THE INFORMATION THAT THE APPLICATION IS USING`\n",
    "\n",
    "Lets make this code better and easy to use."
   ]
  },
  {
   "cell_type": "code",
   "execution_count": 4,
   "id": "94588d08",
   "metadata": {},
   "outputs": [],
   "source": [
    "# Lets divide the info into two classes\n",
    "class VehicleInfo:\n",
    "    brand: str\n",
    "    catalogue_price: int\n",
    "    electric: bool\n",
    "        \n",
    "    ## Initializer\n",
    "    def __init__(self,brand,electric,catalogue_price):\n",
    "        self.brand = brand\n",
    "        self.catalogue_price = catalogue_price\n",
    "        self.electric = electric\n",
    "        \n",
    "    # Most logical place to put tax calculation method\n",
    "    def compute_tax(self):\n",
    "        tax_percentage = 0.05\n",
    "        if self.electric:\n",
    "            tax_percentage = 0.02\n",
    "        \n",
    "        return tax_percentage * self.catalogue_price\n",
    "    \n",
    "    def print(self):\n",
    "        print(f\"Brand: {self.brand}\")\n",
    "        print(f\"Payable tax: {self.compute_tax()}\")\n",
    "            \n",
    "        \n",
    "class Vehicle:\n",
    "    id: str\n",
    "    license_plate: str\n",
    "    info: VehicleInfo\n",
    "    \n",
    "    ## Initializer\n",
    "    def __init__(self,id,license_plate,info):\n",
    "        self.id = id\n",
    "        self.license_plate = license_plate\n",
    "        self.info = info\n",
    "        \n",
    "    def print_vehicle_info(self):\n",
    "        print(f\"ID: {self.id}\")\n",
    "        print(f\"License Plate: {self.license_plate}\")\n",
    "        self.info.print()"
   ]
  },
  {
   "cell_type": "code",
   "execution_count": 5,
   "id": "e7e55aed",
   "metadata": {},
   "outputs": [],
   "source": [
    "import random\n",
    "import string\n",
    "# Now let's move Vehicle registry related info to VehicleRegistry class\n",
    "class VehicleRegistry:\n",
    "    vehicle_info = {}\n",
    "    \n",
    "    def __init__(self):\n",
    "        self.add_vehicle_info(\"Tesla Model 3\",True,560000)\n",
    "        self.add_vehicle_info(\"Volkswagen ID3\",True,420000)\n",
    "        self.add_vehicle_info(\"BMW 5\",False,30000)\n",
    "        \n",
    "    \n",
    "    def add_vehicle_info(self,brand,electric,catalogue_price):\n",
    "        self.vehicle_info[brand] = VehicleInfo(brand,electric,catalogue_price)\n",
    "    \n",
    "    def generate_vehicle_id(self,length):\n",
    "        return ''.join(random.choices(string.ascii_uppercase, k=length))\n",
    "    \n",
    "    def generate_vehicle_license(self,id):\n",
    "        return f\"{id[:2]}-{''.join(random.choices(string.digits,k=2))}-{''.join(random.choices(string.ascii_uppercase,k=2))}\"\n",
    "    \n",
    "    def create_vehicle(self,brand):\n",
    "         #generate a vehicle id of length 12\n",
    "        vehicle_id = self.generate_vehicle_id(12)\n",
    "        #generate  a license plate for vehicle\n",
    "        license_plate = self.generate_vehicle_license(vehicle_id)\n",
    "        return Vehicle(id=vehicle_id,license_plate=license_plate,info=self.vehicle_info[brand])\n",
    "        "
   ]
  },
  {
   "cell_type": "code",
   "execution_count": 6,
   "id": "c1a17e4e",
   "metadata": {},
   "outputs": [],
   "source": [
    "class Application:\n",
    "    def register_vehicle(self,brand: str):\n",
    "        # Create registry\n",
    "        registry = VehicleRegistry()\n",
    "        # Create a vehicle \n",
    "        return registry.create_vehicle(brand)"
   ]
  },
  {
   "cell_type": "code",
   "execution_count": 7,
   "id": "0fa61acd",
   "metadata": {},
   "outputs": [
    {
     "name": "stdout",
     "output_type": "stream",
     "text": [
      "ID: CEARXWFRDKRQ\n",
      "License Plate: CE-90-RD\n",
      "Brand: Volkswagen ID3\n",
      "Payable tax: 8400.0\n"
     ]
    }
   ],
   "source": [
    "app = Application()\n",
    "vehicle = app.register_vehicle(\"Volkswagen ID3\")\n",
    "# Printing the information\n",
    "vehicle.print_vehicle_info()"
   ]
  },
  {
   "cell_type": "code",
   "execution_count": null,
   "id": "cdc53d0d",
   "metadata": {},
   "outputs": [],
   "source": []
  },
  {
   "cell_type": "markdown",
   "id": "57e2ad13",
   "metadata": {},
   "source": [
    "- Now we can see that every variable and every function resides where it should be\n",
    "- Its much easier to extend this code in future as compared to what we wrote earlier.\n",
    "`Although, there is are more improvements we can do but for the sake of understanding COHESION & COUPLING its more than enough`"
   ]
  }
 ],
 "metadata": {
  "kernelspec": {
   "display_name": "Python 3 (ipykernel)",
   "language": "python",
   "name": "python3"
  },
  "language_info": {
   "codemirror_mode": {
    "name": "ipython",
    "version": 3
   },
   "file_extension": ".py",
   "mimetype": "text/x-python",
   "name": "python",
   "nbconvert_exporter": "python",
   "pygments_lexer": "ipython3",
   "version": "3.8.3"
  }
 },
 "nbformat": 4,
 "nbformat_minor": 5
}
